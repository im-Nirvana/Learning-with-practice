{
 "cells": [
  {
   "cell_type": "code",
   "execution_count": 0,
   "metadata": {
    "application/vnd.databricks.v1+cell": {
     "cellMetadata": {
      "byteLimit": 2048000,
      "rowLimit": 10000
     },
     "inputWidgets": {},
     "nuid": "e27ace06-af4f-41a2-a6a8-ca5decec274d",
     "showTitle": false,
     "title": ""
    }
   },
   "outputs": [
    {
     "output_type": "display_data",
     "data": {
      "text/html": [
       "<style scoped>\n",
       "  .ansiout {\n",
       "    display: block;\n",
       "    unicode-bidi: embed;\n",
       "    white-space: pre-wrap;\n",
       "    word-wrap: break-word;\n",
       "    word-break: break-all;\n",
       "    font-family: \"Source Code Pro\", \"Menlo\", monospace;;\n",
       "    font-size: 13px;\n",
       "    color: #555;\n",
       "    margin-left: 4px;\n",
       "    line-height: 19px;\n",
       "  }\n",
       "</style>\n",
       "<div class=\"ansiout\">2023-04-29 17:40:44.849910\n",
       "</div>"
      ]
     },
     "metadata": {
      "application/vnd.databricks.v1+output": {
       "addedWidgets": {},
       "arguments": {},
       "data": "<div class=\"ansiout\">2023-04-29 17:40:44.849910\n</div>",
       "datasetInfos": [],
       "metadata": {},
       "removedWidgets": [],
       "type": "html"
      }
     },
     "output_type": "display_data"
    }
   ],
   "source": [
    "import datetime\n",
    "import time\n",
    "now = datetime.datetime.now()\n",
    "now\n",
    "#datetime.datetime(2009, 1, 6, 15, 8, 24, 78915)\n",
    "print(datetime.datetime.now())\n",
    "#2009-01-06 15:08:24.789150"
   ]
  },
  {
   "cell_type": "code",
   "execution_count": 0,
   "metadata": {
    "application/vnd.databricks.v1+cell": {
     "cellMetadata": {
      "byteLimit": 2048000,
      "rowLimit": 10000
     },
     "inputWidgets": {},
     "nuid": "4426e1c7-54d5-4205-aad1-4b20fce37101",
     "showTitle": false,
     "title": ""
    }
   },
   "outputs": [
    {
     "output_type": "display_data",
     "data": {
      "text/html": [
       "<style scoped>\n",
       "  .ansiout {\n",
       "    display: block;\n",
       "    unicode-bidi: embed;\n",
       "    white-space: pre-wrap;\n",
       "    word-wrap: break-word;\n",
       "    word-break: break-all;\n",
       "    font-family: \"Source Code Pro\", \"Menlo\", monospace;;\n",
       "    font-size: 13px;\n",
       "    color: #555;\n",
       "    margin-left: 4px;\n",
       "    line-height: 19px;\n",
       "  }\n",
       "</style>\n",
       "<div class=\"ansiout\">2023-04-29\n",
       "</div>"
      ]
     },
     "metadata": {
      "application/vnd.databricks.v1+output": {
       "addedWidgets": {},
       "arguments": {},
       "data": "<div class=\"ansiout\">2023-04-29\n</div>",
       "datasetInfos": [],
       "metadata": {},
       "removedWidgets": [],
       "type": "html"
      }
     },
     "output_type": "display_data"
    }
   ],
   "source": [
    "print(datetime.datetime.now().date())"
   ]
  },
  {
   "cell_type": "code",
   "execution_count": 0,
   "metadata": {
    "application/vnd.databricks.v1+cell": {
     "cellMetadata": {
      "byteLimit": 2048000,
      "rowLimit": 10000
     },
     "inputWidgets": {},
     "nuid": "487a6e6d-4742-4885-a168-f91857b49603",
     "showTitle": false,
     "title": ""
    }
   },
   "outputs": [
    {
     "output_type": "display_data",
     "data": {
      "text/html": [
       "<style scoped>\n",
       "  .ansiout {\n",
       "    display: block;\n",
       "    unicode-bidi: embed;\n",
       "    white-space: pre-wrap;\n",
       "    word-wrap: break-word;\n",
       "    word-break: break-all;\n",
       "    font-family: \"Source Code Pro\", \"Menlo\", monospace;;\n",
       "    font-size: 13px;\n",
       "    color: #555;\n",
       "    margin-left: 4px;\n",
       "    line-height: 19px;\n",
       "  }\n",
       "</style>\n",
       "<div class=\"ansiout\"></div>"
      ]
     },
     "metadata": {
      "application/vnd.databricks.v1+output": {
       "addedWidgets": {},
       "arguments": {},
       "data": "<div class=\"ansiout\"></div>",
       "datasetInfos": [],
       "metadata": {},
       "removedWidgets": [],
       "type": "html"
      }
     },
     "output_type": "display_data"
    }
   ],
   "source": [
    "time.sleep(30)"
   ]
  },
  {
   "cell_type": "code",
   "execution_count": 0,
   "metadata": {
    "application/vnd.databricks.v1+cell": {
     "cellMetadata": {
      "byteLimit": 2048000,
      "rowLimit": 10000
     },
     "inputWidgets": {},
     "nuid": "5f56f782-707f-4479-8d1c-040b81664a70",
     "showTitle": false,
     "title": ""
    }
   },
   "outputs": [
    {
     "output_type": "display_data",
     "data": {
      "text/html": [
       "<style scoped>\n",
       "  .ansiout {\n",
       "    display: block;\n",
       "    unicode-bidi: embed;\n",
       "    white-space: pre-wrap;\n",
       "    word-wrap: break-word;\n",
       "    word-break: break-all;\n",
       "    font-family: \"Source Code Pro\", \"Menlo\", monospace;;\n",
       "    font-size: 13px;\n",
       "    color: #555;\n",
       "    margin-left: 4px;\n",
       "    line-height: 19px;\n",
       "  }\n",
       "</style>\n",
       "<div class=\"ansiout\">2023-04-24 11:05:00.008951\n",
       "</div>"
      ]
     },
     "metadata": {
      "application/vnd.databricks.v1+output": {
       "addedWidgets": {},
       "arguments": {},
       "data": "<div class=\"ansiout\">2023-04-24 11:05:00.008951\n</div>",
       "datasetInfos": [],
       "metadata": {},
       "removedWidgets": [],
       "type": "html"
      }
     },
     "output_type": "display_data"
    }
   ],
   "source": [
    "print(datetime.datetime.now())"
   ]
  },
  {
   "cell_type": "markdown",
   "metadata": {
    "application/vnd.databricks.v1+cell": {
     "cellMetadata": {},
     "inputWidgets": {},
     "nuid": "5e4109cf-5b37-4bb4-91e3-47ba172c28e1",
     "showTitle": false,
     "title": ""
    }
   },
   "source": [
    "#### checking for weekdays name"
   ]
  },
  {
   "cell_type": "code",
   "execution_count": 0,
   "metadata": {
    "application/vnd.databricks.v1+cell": {
     "cellMetadata": {
      "byteLimit": 2048000,
      "rowLimit": 10000
     },
     "inputWidgets": {},
     "nuid": "c941bb92-96fa-47a1-8fa2-ba4acee1a3ea",
     "showTitle": false,
     "title": ""
    }
   },
   "outputs": [
    {
     "output_type": "display_data",
     "data": {
      "text/html": [
       "<style scoped>\n",
       "  .ansiout {\n",
       "    display: block;\n",
       "    unicode-bidi: embed;\n",
       "    white-space: pre-wrap;\n",
       "    word-wrap: break-word;\n",
       "    word-break: break-all;\n",
       "    font-family: \"Source Code Pro\", \"Menlo\", monospace;;\n",
       "    font-size: 13px;\n",
       "    color: #555;\n",
       "    margin-left: 4px;\n",
       "    line-height: 19px;\n",
       "  }\n",
       "</style>\n",
       "<div class=\"ansiout\"></div>"
      ]
     },
     "metadata": {
      "application/vnd.databricks.v1+output": {
       "addedWidgets": {},
       "arguments": {},
       "data": "<div class=\"ansiout\"></div>",
       "datasetInfos": [],
       "metadata": {},
       "removedWidgets": [],
       "type": "html"
      }
     },
     "output_type": "display_data"
    }
   ],
   "source": [
    "import datetime\n",
    "import time\n",
    "x= datetime.datetime.now()  ##For current date\n",
    "#x = datetime.datetime(2023, 4, 22)  ##For specific days\n",
    "chk = x.strftime(\"%a\")"
   ]
  },
  {
   "cell_type": "code",
   "execution_count": 0,
   "metadata": {
    "application/vnd.databricks.v1+cell": {
     "cellMetadata": {
      "byteLimit": 2048000,
      "rowLimit": 10000
     },
     "inputWidgets": {},
     "nuid": "f63e8d78-ac81-4e6c-b7bc-d7e28d02f68e",
     "showTitle": false,
     "title": ""
    }
   },
   "outputs": [
    {
     "output_type": "display_data",
     "data": {
      "text/html": [
       "<style scoped>\n",
       "  .ansiout {\n",
       "    display: block;\n",
       "    unicode-bidi: embed;\n",
       "    white-space: pre-wrap;\n",
       "    word-wrap: break-word;\n",
       "    word-break: break-all;\n",
       "    font-family: \"Source Code Pro\", \"Menlo\", monospace;;\n",
       "    font-size: 13px;\n",
       "    color: #555;\n",
       "    margin-left: 4px;\n",
       "    line-height: 19px;\n",
       "  }\n",
       "</style>\n",
       "<div class=\"ansiout\">the check has successfully pass\n",
       "</div>"
      ]
     },
     "metadata": {
      "application/vnd.databricks.v1+output": {
       "addedWidgets": {},
       "arguments": {},
       "data": "<div class=\"ansiout\">the check has successfully pass\n</div>",
       "datasetInfos": [],
       "metadata": {},
       "removedWidgets": [],
       "type": "html"
      }
     },
     "output_type": "display_data"
    }
   ],
   "source": [
    "if chk == 'Sat' :\n",
    "    print(\"the check has successfully pass\")\n",
    "else :\n",
    "    print(\"Kuch bhi, aise nhi chalta h bhai!\")"
   ]
  },
  {
   "cell_type": "code",
   "execution_count": 0,
   "metadata": {
    "application/vnd.databricks.v1+cell": {
     "cellMetadata": {
      "byteLimit": 2048000,
      "rowLimit": 10000
     },
     "inputWidgets": {},
     "nuid": "06518a32-00b8-4b7f-be94-fc066a4ea0b6",
     "showTitle": false,
     "title": ""
    }
   },
   "outputs": [
    {
     "output_type": "display_data",
     "data": {
      "text/html": [
       "<style scoped>\n",
       "  .ansiout {\n",
       "    display: block;\n",
       "    unicode-bidi: embed;\n",
       "    white-space: pre-wrap;\n",
       "    word-wrap: break-word;\n",
       "    word-break: break-all;\n",
       "    font-family: \"Source Code Pro\", \"Menlo\", monospace;;\n",
       "    font-size: 13px;\n",
       "    color: #555;\n",
       "    margin-left: 4px;\n",
       "    line-height: 19px;\n",
       "  }\n",
       "</style>\n",
       "<div class=\"ansiout\"></div>"
      ]
     },
     "metadata": {
      "application/vnd.databricks.v1+output": {
       "addedWidgets": {},
       "arguments": {},
       "data": "<div class=\"ansiout\"></div>",
       "datasetInfos": [],
       "metadata": {},
       "removedWidgets": [],
       "type": "html"
      }
     },
     "output_type": "display_data"
    }
   ],
   "source": [
    "import os\n",
    "import shutil\n",
    "import glob\n",
    "# Path where dataset files are located\n",
    "dir_path = \"/dbfs/mnt/cis2-casino-niq/onboarding/pdl/crm/build/\"  ##/dbfs/mnt/cis2-casino-niq/alfamart/pdl/jhd\n",
    "# # list to store files\n",
    "res = []"
   ]
  },
  {
   "cell_type": "code",
   "execution_count": 0,
   "metadata": {
    "application/vnd.databricks.v1+cell": {
     "cellMetadata": {
      "byteLimit": 2048000,
      "rowLimit": 10000
     },
     "inputWidgets": {},
     "nuid": "816ae8d1-776b-4768-a314-8f29ac9d61de",
     "showTitle": false,
     "title": ""
    }
   },
   "outputs": [
    {
     "output_type": "display_data",
     "data": {
      "text/html": [
       "<style scoped>\n",
       "  .ansiout {\n",
       "    display: block;\n",
       "    unicode-bidi: embed;\n",
       "    white-space: pre-wrap;\n",
       "    word-wrap: break-word;\n",
       "    word-break: break-all;\n",
       "    font-family: \"Source Code Pro\", \"Menlo\", monospace;;\n",
       "    font-size: 13px;\n",
       "    color: #555;\n",
       "    margin-left: 4px;\n",
       "    line-height: 19px;\n",
       "  }\n",
       "</style>\n",
       "<div class=\"ansiout\"></div>"
      ]
     },
     "metadata": {
      "application/vnd.databricks.v1+output": {
       "addedWidgets": {},
       "arguments": {},
       "data": "<div class=\"ansiout\"></div>",
       "datasetInfos": [],
       "metadata": {},
       "removedWidgets": [],
       "type": "html"
      }
     },
     "output_type": "display_data"
    }
   ],
   "source": [
    "def gen_list():\n",
    "    \n",
    "    for path in os.listdir(dir_path):\n",
    "        if \"reward_\" in path:\n",
    "            res.append(path)"
   ]
  },
  {
   "cell_type": "code",
   "execution_count": 0,
   "metadata": {
    "application/vnd.databricks.v1+cell": {
     "cellMetadata": {
      "byteLimit": 2048000,
      "rowLimit": 10000
     },
     "inputWidgets": {},
     "nuid": "9c2067ed-5b76-4cf2-bc0c-ad669788b285",
     "showTitle": false,
     "title": ""
    }
   },
   "outputs": [
    {
     "output_type": "display_data",
     "data": {
      "text/html": [
       "<style scoped>\n",
       "  .ansiout {\n",
       "    display: block;\n",
       "    unicode-bidi: embed;\n",
       "    white-space: pre-wrap;\n",
       "    word-wrap: break-word;\n",
       "    word-break: break-all;\n",
       "    font-family: \"Source Code Pro\", \"Menlo\", monospace;;\n",
       "    font-size: 13px;\n",
       "    color: #555;\n",
       "    margin-left: 4px;\n",
       "    line-height: 19px;\n",
       "  }\n",
       "</style>\n",
       "<div class=\"ansiout\">[&#39;emis_redem_202310.parquet&#39;, &#39;emis_redem_202311.parquet&#39;, &#39;emis_redem_202313.parquet&#39;, &#39;emis_redem_202314.parquet&#39;, &#39;emis_redem_202315.parquet&#39;, &#39;emis_redem_202316.parquet&#39;, &#39;emis_redem_202317.parquet&#39;]\n",
       "</div>"
      ]
     },
     "metadata": {
      "application/vnd.databricks.v1+output": {
       "addedWidgets": {},
       "arguments": {},
       "data": "<div class=\"ansiout\">[&#39;emis_redem_202310.parquet&#39;, &#39;emis_redem_202311.parquet&#39;, &#39;emis_redem_202313.parquet&#39;, &#39;emis_redem_202314.parquet&#39;, &#39;emis_redem_202315.parquet&#39;, &#39;emis_redem_202316.parquet&#39;, &#39;emis_redem_202317.parquet&#39;]\n</div>",
       "datasetInfos": [],
       "metadata": {},
       "removedWidgets": [],
       "type": "html"
      }
     },
     "output_type": "display_data"
    }
   ],
   "source": [
    "gen_list()\n",
    "print(res)"
   ]
  },
  {
   "cell_type": "code",
   "execution_count": 0,
   "metadata": {
    "application/vnd.databricks.v1+cell": {
     "cellMetadata": {
      "byteLimit": 2048000,
      "rowLimit": 10000
     },
     "inputWidgets": {},
     "nuid": "2e6ba85c-23d7-484c-8475-2e8cb8fd94e2",
     "showTitle": false,
     "title": ""
    }
   },
   "outputs": [
    {
     "output_type": "display_data",
     "data": {
      "text/html": [
       "<style scoped>\n",
       "  .ansiout {\n",
       "    display: block;\n",
       "    unicode-bidi: embed;\n",
       "    white-space: pre-wrap;\n",
       "    word-wrap: break-word;\n",
       "    word-break: break-all;\n",
       "    font-family: \"Source Code Pro\", \"Menlo\", monospace;;\n",
       "    font-size: 13px;\n",
       "    color: #555;\n",
       "    margin-left: 4px;\n",
       "    line-height: 19px;\n",
       "  }\n",
       "</style>\n",
       "<div class=\"ansiout\">emis_redem_202310.parquet counts : new : 4118949 prev : 4118949 % diff 100.0\n",
       "emis_redem_202311.parquet counts : new : 2013065 prev : 2013065 % diff 100.0\n",
       "emis_redem_202313.parquet counts : new : 2949278 prev : 2949278 % diff 100.0\n",
       "emis_redem_202314.parquet counts : new : 2102554 prev : 2102547 % diff 100.00033292953736\n",
       "emis_redem_202315.parquet counts : new : 1416149 prev : 1416148 % diff 100.00007061408836\n",
       "emis_redem_202316.parquet counts : new : 1532054 prev : 1532047 % diff 100.00045690504274\n",
       "emis_redem_202317.parquet counts : new : 1328227 prev : 981069 % diff 135.3856864298026\n",
       "</div>"
      ]
     },
     "metadata": {
      "application/vnd.databricks.v1+output": {
       "addedWidgets": {},
       "arguments": {},
       "data": "<div class=\"ansiout\">emis_redem_202310.parquet counts : new : 4118949 prev : 4118949 % diff 100.0\nemis_redem_202311.parquet counts : new : 2013065 prev : 2013065 % diff 100.0\nemis_redem_202313.parquet counts : new : 2949278 prev : 2949278 % diff 100.0\nemis_redem_202314.parquet counts : new : 2102554 prev : 2102547 % diff 100.00033292953736\nemis_redem_202315.parquet counts : new : 1416149 prev : 1416148 % diff 100.00007061408836\nemis_redem_202316.parquet counts : new : 1532054 prev : 1532047 % diff 100.00045690504274\nemis_redem_202317.parquet counts : new : 1328227 prev : 981069 % diff 135.3856864298026\n</div>",
       "datasetInfos": [],
       "metadata": {},
       "removedWidgets": [],
       "type": "html"
      }
     },
     "output_type": "display_data"
    }
   ],
   "source": [
    "tcs={}\n",
    "sas={}\n",
    "tcs_={}\n",
    "sas_={}\n",
    "diftcs={}\n",
    "difsas={}\n",
    "for i in res:\n",
    "    tcs[f\"{str(i)}\"] = spark.read.parquet(f\"/mnt/cis2-casino-niq/onboarding/pdl/crm/build/{str(i)}\")\n",
    "    sas[f\"{str(i)}\"] = spark.read.parquet(f\"/mnt/cis2-casino-niq/onboarding/pdl/crm/{str(i)}\")\n",
    "    a=tcs[f\"{str(i)}\"].count()\n",
    "    b=sas[f\"{str(i)}\"].count()\n",
    "    c=(a/b)*100\n",
    "    # diff =spark.tcs[f'{str(i)}'].div(sas[f'{str(i)}'])*100\n",
    "    display(print(f\"{str(i)}\",\"counts :\",\"new :\", tcs[f\"{str(i)}\"].count(), \"prev :\", sas[f\"{str(i)}\"].count(),\"% diff\", c)) ###Record count##"
   ]
  },
  {
   "cell_type": "markdown",
   "metadata": {
    "application/vnd.databricks.v1+cell": {
     "cellMetadata": {},
     "inputWidgets": {},
     "nuid": "30398195-16c9-4d7c-b148-8ab9291c1d5c",
     "showTitle": false,
     "title": ""
    }
   },
   "source": [
    "###Trying to read log files in python"
   ]
  },
  {
   "cell_type": "code",
   "execution_count": 0,
   "metadata": {
    "application/vnd.databricks.v1+cell": {
     "cellMetadata": {
      "byteLimit": 2048000,
      "rowLimit": 10000
     },
     "inputWidgets": {},
     "nuid": "2fba39b1-01ff-4b1c-99c8-1a9e95121b47",
     "showTitle": false,
     "title": ""
    }
   },
   "outputs": [
    {
     "output_type": "display_data",
     "data": {
      "text/html": [
       "<style scoped>\n",
       "  .ansiout {\n",
       "    display: block;\n",
       "    unicode-bidi: embed;\n",
       "    white-space: pre-wrap;\n",
       "    word-wrap: break-word;\n",
       "    word-break: break-all;\n",
       "    font-family: \"Source Code Pro\", \"Menlo\", monospace;;\n",
       "    font-size: 13px;\n",
       "    color: #555;\n",
       "    margin-left: 4px;\n",
       "    line-height: 19px;\n",
       "  }\n",
       "</style>\n",
       "<div class=\"ansiout\"></div>"
      ]
     },
     "metadata": {
      "application/vnd.databricks.v1+output": {
       "addedWidgets": {},
       "arguments": {},
       "data": "<div class=\"ansiout\"></div>",
       "datasetInfos": [],
       "metadata": {},
       "removedWidgets": [],
       "type": "html"
      }
     },
     "output_type": "display_data"
    }
   ],
   "source": [
    "currday = 20230429\n",
    "currwk = 202317"
   ]
  },
  {
   "cell_type": "code",
   "execution_count": 0,
   "metadata": {
    "application/vnd.databricks.v1+cell": {
     "cellMetadata": {
      "byteLimit": 2048000,
      "rowLimit": 10000
     },
     "inputWidgets": {},
     "nuid": "23381cb6-1829-454a-bac1-b74e6a495efd",
     "showTitle": false,
     "title": ""
    }
   },
   "outputs": [
    {
     "output_type": "display_data",
     "data": {
      "text/html": [
       "<style scoped>\n",
       "  .ansiout {\n",
       "    display: block;\n",
       "    unicode-bidi: embed;\n",
       "    white-space: pre-wrap;\n",
       "    word-wrap: break-word;\n",
       "    word-break: break-all;\n",
       "    font-family: \"Source Code Pro\", \"Menlo\", monospace;;\n",
       "    font-size: 13px;\n",
       "    color: #555;\n",
       "    margin-left: 4px;\n",
       "    line-height: 19px;\n",
       "  }\n",
       "</style>\n",
       "<div class=\"ansiout\">No error found in the log!!\n",
       "</div>"
      ]
     },
     "metadata": {
      "application/vnd.databricks.v1+output": {
       "addedWidgets": {},
       "arguments": {},
       "data": "<div class=\"ansiout\">No error found in the log!!\n</div>",
       "datasetInfos": [],
       "metadata": {},
       "removedWidgets": [],
       "type": "html"
      }
     },
     "output_type": "display_data"
    }
   ],
   "source": [
    "import re\n",
    "\n",
    "with open(f\"/dbfs/mnt/cis2-casino-niq/onboarding/prep/sasprogs/Full/create_week_ACH_{currday}_{currwk}.log\", 'r') as f:\n",
    "    lines = f.readlines()\n",
    "\n",
    "# Find lines containing \"ERR\" but not containing \"py4j.java_gateway\"\n",
    "filtered_lines = [line for line in lines if re.search('ERR', line, re.IGNORECASE) and not re.search('py4j.java_gateway', line)]\n",
    "\n",
    "# Print the filtered lines\n",
    "for line in filtered_lines:\n",
    "    print(line)\n",
    "\n",
    "if not filtered_lines:\n",
    "    print(\"No error found in the log!!\")\n",
    "else:\n",
    "    raise ValueError(\"Error found need to investigate!!\")"
   ]
  },
  {
   "cell_type": "code",
   "execution_count": 0,
   "metadata": {
    "application/vnd.databricks.v1+cell": {
     "cellMetadata": {
      "byteLimit": 2048000,
      "rowLimit": 10000
     },
     "inputWidgets": {},
     "nuid": "5c94dd16-c0a5-465d-9cfe-bb091cf66a6d",
     "showTitle": false,
     "title": ""
    }
   },
   "outputs": [
    {
     "output_type": "display_data",
     "data": {
      "text/html": [
       "<style scoped>\n",
       "  .ansiout {\n",
       "    display: block;\n",
       "    unicode-bidi: embed;\n",
       "    white-space: pre-wrap;\n",
       "    word-wrap: break-word;\n",
       "    word-break: break-all;\n",
       "    font-family: \"Source Code Pro\", \"Menlo\", monospace;;\n",
       "    font-size: 13px;\n",
       "    color: #555;\n",
       "    margin-left: 4px;\n",
       "    line-height: 19px;\n",
       "  }\n",
       "</style>\n",
       "<div class=\"ansiout\">&gt;{03-Mar-23 03:33:10} [TID:139809531750144]  -ThreadPoolExecutor-1_1- (py.warnings) [_showwarnmsg():109] &gt;&gt;WARNING: /databricks/spark/python/pyspark/sql/pandas/conversion.py:161: UserWarning: toPandas attempted Arrow optimization because &#39;spark.sql.execution.arrow.pyspark.enabled&#39; is set to true, but has reached the error below and can not continue. Note that &#39;spark.sql.execution.arrow.pyspark.fallback.enabled&#39; does not have an effect on failures in the middle of computation.\n",
       "\n",
       "  An error occurred while calling o21965.getResult.\n",
       "\n",
       "&gt;{03-Mar-23 03:33:11} [TID:139809531750144]  -ThreadPoolExecutor-1_1- (py.warnings) [_showwarnmsg():109] &gt;&gt;WARNING: /databricks/spark/python/pyspark/sql/pandas/conversion.py:161: UserWarning: toPandas attempted Arrow optimization because &#39;spark.sql.execution.arrow.pyspark.enabled&#39; is set to true, but has reached the error below and can not continue. Note that &#39;spark.sql.execution.arrow.pyspark.fallback.enabled&#39; does not have an effect on failures in the middle of computation.\n",
       "\n",
       "  An error occurred while calling o22064.getResult.\n",
       "\n",
       "</div>"
      ]
     },
     "metadata": {
      "application/vnd.databricks.v1+output": {
       "addedWidgets": {},
       "arguments": {},
       "data": "<div class=\"ansiout\">&gt;{03-Mar-23 03:33:10} [TID:139809531750144]  -ThreadPoolExecutor-1_1- (py.warnings) [_showwarnmsg():109] &gt;&gt;WARNING: /databricks/spark/python/pyspark/sql/pandas/conversion.py:161: UserWarning: toPandas attempted Arrow optimization because &#39;spark.sql.execution.arrow.pyspark.enabled&#39; is set to true, but has reached the error below and can not continue. Note that &#39;spark.sql.execution.arrow.pyspark.fallback.enabled&#39; does not have an effect on failures in the middle of computation.\n\n  An error occurred while calling o21965.getResult.\n\n&gt;{03-Mar-23 03:33:11} [TID:139809531750144]  -ThreadPoolExecutor-1_1- (py.warnings) [_showwarnmsg():109] &gt;&gt;WARNING: /databricks/spark/python/pyspark/sql/pandas/conversion.py:161: UserWarning: toPandas attempted Arrow optimization because &#39;spark.sql.execution.arrow.pyspark.enabled&#39; is set to true, but has reached the error below and can not continue. Note that &#39;spark.sql.execution.arrow.pyspark.fallback.enabled&#39; does not have an effect on failures in the middle of computation.\n\n  An error occurred while calling o22064.getResult.\n\n</div>",
       "datasetInfos": [],
       "metadata": {},
       "removedWidgets": [],
       "type": "html"
      }
     },
     "output_type": "display_data"
    },
    {
     "output_type": "display_data",
     "data": {
      "text/html": [
       "<style scoped>\n",
       "  .ansiout {\n",
       "    display: block;\n",
       "    unicode-bidi: embed;\n",
       "    white-space: pre-wrap;\n",
       "    word-wrap: break-word;\n",
       "    word-break: break-all;\n",
       "    font-family: \"Source Code Pro\", \"Menlo\", monospace;;\n",
       "    font-size: 13px;\n",
       "    color: #555;\n",
       "    margin-left: 4px;\n",
       "    line-height: 19px;\n",
       "  }\n",
       "</style>\n",
       "<div class=\"ansiout\"><span class=\"ansi-red-fg\">---------------------------------------------------------------------------</span>\n",
       "<span class=\"ansi-red-fg\">ValueError</span>                                Traceback (most recent call last)\n",
       "<span class=\"ansi-green-fg\">&lt;command-3815922527658680&gt;</span> in <span class=\"ansi-cyan-fg\">&lt;module&gt;</span>\n",
       "<span class=\"ansi-green-intense-fg ansi-bold\">     14</span>     print<span class=\"ansi-blue-fg\">(</span><span class=\"ansi-blue-fg\">&#34;No error found in the log!!&#34;</span><span class=\"ansi-blue-fg\">)</span>\n",
       "<span class=\"ansi-green-intense-fg ansi-bold\">     15</span> <span class=\"ansi-green-fg\">else</span><span class=\"ansi-blue-fg\">:</span>\n",
       "<span class=\"ansi-green-fg\">---&gt; 16</span><span class=\"ansi-red-fg\">     </span><span class=\"ansi-green-fg\">raise</span> ValueError<span class=\"ansi-blue-fg\">(</span><span class=\"ansi-blue-fg\">&#34;Error found need to investigate!!&#34;</span><span class=\"ansi-blue-fg\">)</span>\n",
       "\n",
       "<span class=\"ansi-red-fg\">ValueError</span>: Error found need to investigate!!</div>"
      ]
     },
     "metadata": {
      "application/vnd.databricks.v1+output": {
       "arguments": {},
       "data": "<div class=\"ansiout\"><span class=\"ansi-red-fg\">---------------------------------------------------------------------------</span>\n<span class=\"ansi-red-fg\">ValueError</span>                                Traceback (most recent call last)\n<span class=\"ansi-green-fg\">&lt;command-3815922527658680&gt;</span> in <span class=\"ansi-cyan-fg\">&lt;module&gt;</span>\n<span class=\"ansi-green-intense-fg ansi-bold\">     14</span>     print<span class=\"ansi-blue-fg\">(</span><span class=\"ansi-blue-fg\">&#34;No error found in the log!!&#34;</span><span class=\"ansi-blue-fg\">)</span>\n<span class=\"ansi-green-intense-fg ansi-bold\">     15</span> <span class=\"ansi-green-fg\">else</span><span class=\"ansi-blue-fg\">:</span>\n<span class=\"ansi-green-fg\">---&gt; 16</span><span class=\"ansi-red-fg\">     </span><span class=\"ansi-green-fg\">raise</span> ValueError<span class=\"ansi-blue-fg\">(</span><span class=\"ansi-blue-fg\">&#34;Error found need to investigate!!&#34;</span><span class=\"ansi-blue-fg\">)</span>\n\n<span class=\"ansi-red-fg\">ValueError</span>: Error found need to investigate!!</div>",
       "errorSummary": "<span class=\"ansi-red-fg\">ValueError</span>: Error found need to investigate!!",
       "errorTraceType": "html",
       "metadata": {},
       "type": "ipynbError"
      }
     },
     "output_type": "display_data"
    }
   ],
   "source": [
    "import re\n",
    "\n",
    "with open(f\"/dbfs/mnt/cis2-casino-niq/onboarding/prep/sasprogs/Full/create_week_AV1_20230303_202309_error.log\", 'r') as f:\n",
    "    lines = f.readlines()\n",
    "\n",
    "# Find lines containing \"ERR\" but not containing \"py4j.java_gateway\"\n",
    "filtered_lines = [line for line in lines if re.search('ERR', line, re.IGNORECASE) and not re.search('py4j.java_gateway', line)]\n",
    "\n",
    "# Print the filtered lines\n",
    "for line in filtered_lines:\n",
    "    print(line)\n",
    "\n",
    "if not filtered_lines:\n",
    "    print(\"No error found in the log!!\")\n",
    "else:\n",
    "    raise ValueError(\"Error found need to investigate!!\")"
   ]
  },
  {
   "cell_type": "code",
   "execution_count": 0,
   "metadata": {
    "application/vnd.databricks.v1+cell": {
     "cellMetadata": {},
     "inputWidgets": {},
     "nuid": "83c5c13d-3b94-417c-abc9-755898f744d3",
     "showTitle": false,
     "title": ""
    }
   },
   "outputs": [],
   "source": [
    "import re\n",
    "\n",
    "with open('file.log', 'r') as f:\n",
    "    lines = f.readlines()\n",
    "\n",
    "# Find lines containing \"ERR\" but not containing \"py4j.java_gateway\" or \"OrderedDict\"\n",
    "filtered_lines = [line for line in lines if re.search('ERR', line, re.IGNORECASE) and not re.search('py4j.java_gateway|OrderedDict', line)]\n",
    "\n",
    "# Print the filtered lines\n",
    "for line in filtered_lines:\n",
    "    print(line)"
   ]
  },
  {
   "cell_type": "markdown",
   "metadata": {
    "application/vnd.databricks.v1+cell": {
     "cellMetadata": {},
     "inputWidgets": {},
     "nuid": "5f616766-be34-4866-a83f-e8aaa9eae1ad",
     "showTitle": false,
     "title": ""
    }
   },
   "source": [
    "### Dataset generation check"
   ]
  },
  {
   "cell_type": "code",
   "execution_count": 0,
   "metadata": {
    "application/vnd.databricks.v1+cell": {
     "cellMetadata": {
      "byteLimit": 2048000,
      "rowLimit": 10000
     },
     "inputWidgets": {},
     "nuid": "eddfd2da-10e7-41e3-8b71-774bb6c12b00",
     "showTitle": false,
     "title": ""
    }
   },
   "outputs": [
    {
     "output_type": "display_data",
     "data": {
      "text/html": [
       "<style scoped>\n",
       "  .ansiout {\n",
       "    display: block;\n",
       "    unicode-bidi: embed;\n",
       "    white-space: pre-wrap;\n",
       "    word-wrap: break-word;\n",
       "    word-break: break-all;\n",
       "    font-family: \"Source Code Pro\", \"Menlo\", monospace;;\n",
       "    font-size: 13px;\n",
       "    color: #555;\n",
       "    margin-left: 4px;\n",
       "    line-height: 19px;\n",
       "  }\n",
       "</style>\n",
       "<div class=\"ansiout\"></div>"
      ]
     },
     "metadata": {
      "application/vnd.databricks.v1+output": {
       "addedWidgets": {},
       "arguments": {},
       "data": "<div class=\"ansiout\"></div>",
       "datasetInfos": [],
       "metadata": {},
       "removedWidgets": [],
       "type": "html"
      }
     },
     "output_type": "display_data"
    }
   ],
   "source": [
    "import pandas as pd\n",
    "import glob\n",
    "import os\n",
    "import datetime\n",
    "import time\n",
    "\n",
    "exec(open(\"/dbfs/mnt/cis2-casino-niq/onboarding/parameter.py\").read())\n",
    "prevday=prevday  \n",
    "currday=currday\t\n",
    "currwk=currwk\n",
    "chkmon=chkmon  #(---- previous week Monday----)\n",
    "sunddate=sunddate ##Current week's sunday date\n",
    "dt = datetime.datetime.now().date()\n",
    "#dt = dt - datetime.timedelta(days=1)\n",
    "\n",
    "cday = currday\n",
    "pday = currday-1\n",
    "ppday = currday-2"
   ]
  },
  {
   "cell_type": "code",
   "execution_count": 0,
   "metadata": {
    "application/vnd.databricks.v1+cell": {
     "cellMetadata": {},
     "inputWidgets": {},
     "nuid": "9d2d14d9-5c39-478b-bcdf-331889e3c487",
     "showTitle": false,
     "title": ""
    }
   },
   "outputs": [],
   "source": [
    "directory_path = \"/dbfs/mnt/cis2-casino-niq/onboarding/pdl/trans/build/daily/\" \n",
    "\n",
    "# Set the file names to check\n",
    "file_names = [f'ep1_{ppday}_{currday}.parquet.gz', f'ep2_{ppday}_{currday}.parquet.gz',f'ep1_{pday}_{currday}.parquet.gz', f'ep2_{pday}_{currday}.parquet.gz', f'ep1_{cday}_{currday}.parquet.gz', f'ep2_{cday}_{currday}.parquet.gz']\n",
    "\n",
    "# Loop through the file names and check if each file exists in the directory\n",
    "for file_name in file_names:\n",
    "    file_path = os.path.join(directory_path, file_name)\n",
    "    if os.path.isfile(file_path):\n",
    "        print(f'{file_name} exists in the directory.')\n",
    "    else:\n",
    "        raise ValueError(f'{file_name} does not exist in the directory.')"
   ]
  },
  {
   "cell_type": "code",
   "execution_count": 0,
   "metadata": {
    "application/vnd.databricks.v1+cell": {
     "cellMetadata": {},
     "inputWidgets": {},
     "nuid": "599dae4e-db74-4a31-a59d-93db22074b40",
     "showTitle": false,
     "title": ""
    }
   },
   "outputs": [],
   "source": [
    "def checkMon():\n",
    "    \n",
    "    for path in os.listdir(\"/dbfs/mnt/cis2-casino-niq/onboarding/pdl/trans/build/daily/done/\"):\n",
    "        if f\"{chkmon}_\" in path:\n",
    "            raise ValueError(f'{path} is present in the done directory. Need to promote it in daily folder !!')\n",
    "    else :\n",
    "        print(\"CheckMon check pass successfully !!!\")"
   ]
  },
  {
   "cell_type": "code",
   "execution_count": 0,
   "metadata": {
    "application/vnd.databricks.v1+cell": {
     "cellMetadata": {},
     "inputWidgets": {},
     "nuid": "22e621d1-1958-4463-8739-b00ce3b53444",
     "showTitle": false,
     "title": ""
    }
   },
   "outputs": [],
   "source": [
    "checkMon()"
   ]
  },
  {
   "cell_type": "code",
   "execution_count": 0,
   "metadata": {
    "application/vnd.databricks.v1+cell": {
     "cellMetadata": {
      "byteLimit": 2048000,
      "rowLimit": 10000
     },
     "inputWidgets": {},
     "nuid": "151fe0d6-b8a1-4b10-9d9e-dac4098ed294",
     "showTitle": false,
     "title": ""
    }
   },
   "outputs": [
    {
     "output_type": "display_data",
     "data": {
      "text/html": [
       "<style scoped>\n",
       "  .ansiout {\n",
       "    display: block;\n",
       "    unicode-bidi: embed;\n",
       "    white-space: pre-wrap;\n",
       "    word-wrap: break-word;\n",
       "    word-break: break-all;\n",
       "    font-family: \"Source Code Pro\", \"Menlo\", monospace;;\n",
       "    font-size: 13px;\n",
       "    color: #555;\n",
       "    margin-left: 4px;\n",
       "    line-height: 19px;\n",
       "  }\n",
       "</style>\n",
       "<div class=\"ansiout\">EP1_20230329_20230429\n",
       "EP1_20230330_20230429\n",
       "EP1_20230331_20230429\n",
       "EP1_20230401_20230429\n",
       "EP1_20230402_20230429\n",
       "EP1_20230404_20230429\n",
       "EP1_20230405_20230429\n",
       "EP1_20230406_20230429\n",
       "EP1_20230407_20230429\n",
       "EP1_20230408_20230429\n",
       "EP1_20230411_20230429\n",
       "EP1_20230412_20230429\n",
       "EP1_20230413_20230429\n",
       "EP1_20230414_20230429\n",
       "EP1_20230415_20230429\n",
       "EP1_20230416_20230429\n",
       "EP1_20230417_20230429\n",
       "EP1_20230418_20230429\n",
       "EP1_20230419_20230429\n",
       "EP1_20230420_20230429\n",
       "EP1_20230421_20230429\n",
       "EP1_20230422_20230429\n",
       "EP1_20230423_20230429\n",
       "EP1_20230424_20230429\n",
       "EP1_20230425_20230429\n",
       "EP1_20230426_20230429\n",
       "EP1_20230427_20230429\n",
       "EP1_20230428_20230429\n",
       "EP1_20230429_20230429\n",
       "</div>"
      ]
     },
     "metadata": {
      "application/vnd.databricks.v1+output": {
       "addedWidgets": {},
       "arguments": {},
       "data": "<div class=\"ansiout\">EP1_20230329_20230429\nEP1_20230330_20230429\nEP1_20230331_20230429\nEP1_20230401_20230429\nEP1_20230402_20230429\nEP1_20230404_20230429\nEP1_20230405_20230429\nEP1_20230406_20230429\nEP1_20230407_20230429\nEP1_20230408_20230429\nEP1_20230411_20230429\nEP1_20230412_20230429\nEP1_20230413_20230429\nEP1_20230414_20230429\nEP1_20230415_20230429\nEP1_20230416_20230429\nEP1_20230417_20230429\nEP1_20230418_20230429\nEP1_20230419_20230429\nEP1_20230420_20230429\nEP1_20230421_20230429\nEP1_20230422_20230429\nEP1_20230423_20230429\nEP1_20230424_20230429\nEP1_20230425_20230429\nEP1_20230426_20230429\nEP1_20230427_20230429\nEP1_20230428_20230429\nEP1_20230429_20230429\n</div>",
       "datasetInfos": [],
       "metadata": {},
       "removedWidgets": [],
       "type": "html"
      }
     },
     "output_type": "display_data"
    }
   ],
   "source": [
    "import re\n",
    "\n",
    "with open(f\"/dbfs/mnt/cis2-casino-niq/onboarding/prep/sasprogs/Full/load_trans_daily_EP1_{currday}_{dt}.log\", 'r') as f:\n",
    "    lines = f.readlines()\n",
    "\n",
    "pattern = f\"The table EP1_.*_{currday}\"\n",
    "filtered_lines = [line for line in lines if re.search(pattern, line, re.IGNORECASE)]\n",
    "\n",
    "# Extract the desired substring from each matching line\n",
    "results = []\n",
    "for match in filtered_lines:\n",
    "    result = match.split(' ')[8]\n",
    "    results.append(result)\n",
    "    print(result)"
   ]
  },
  {
   "cell_type": "code",
   "execution_count": 0,
   "metadata": {
    "application/vnd.databricks.v1+cell": {
     "cellMetadata": {
      "byteLimit": 2048000,
      "rowLimit": 10000
     },
     "inputWidgets": {},
     "nuid": "ac84da25-4bb5-4ff1-a23c-147c380eef1e",
     "showTitle": false,
     "title": ""
    }
   },
   "outputs": [
    {
     "output_type": "display_data",
     "data": {
      "text/html": [
       "<style scoped>\n",
       "  .ansiout {\n",
       "    display: block;\n",
       "    unicode-bidi: embed;\n",
       "    white-space: pre-wrap;\n",
       "    word-wrap: break-word;\n",
       "    word-break: break-all;\n",
       "    font-family: \"Source Code Pro\", \"Menlo\", monospace;;\n",
       "    font-size: 13px;\n",
       "    color: #555;\n",
       "    margin-left: 4px;\n",
       "    line-height: 19px;\n",
       "  }\n",
       "</style>\n",
       "<div class=\"ansiout\">EP1_20230329_20230429 exists in the directory.\n",
       "EP1_20230330_20230429 exists in the directory.\n",
       "EP1_20230331_20230429 exists in the directory.\n",
       "EP1_20230401_20230429 exists in the directory.\n",
       "EP1_20230402_20230429 exists in the directory.\n",
       "EP1_20230404_20230429 exists in the directory.\n",
       "EP1_20230405_20230429 exists in the directory.\n",
       "EP1_20230406_20230429 exists in the directory.\n",
       "EP1_20230407_20230429 exists in the directory.\n",
       "EP1_20230408_20230429 exists in the directory.\n",
       "EP1_20230411_20230429 exists in the directory.\n",
       "EP1_20230412_20230429 exists in the directory.\n",
       "EP1_20230413_20230429 exists in the directory.\n",
       "EP1_20230414_20230429 exists in the directory.\n",
       "EP1_20230415_20230429 exists in the directory.\n",
       "EP1_20230416_20230429 exists in the directory.\n",
       "EP1_20230417_20230429 exists in the directory.\n",
       "EP1_20230418_20230429 exists in the directory.\n",
       "EP1_20230419_20230429 exists in the directory.\n",
       "EP1_20230420_20230429 exists in the directory.\n",
       "EP1_20230421_20230429 exists in the directory.\n",
       "EP1_20230422_20230429 exists in the directory.\n",
       "EP1_20230423_20230429 exists in the directory.\n",
       "EP1_20230424_20230429 exists in the directory.\n",
       "EP1_20230425_20230429 exists in the directory.\n",
       "EP1_20230426_20230429 exists in the directory.\n",
       "EP1_20230427_20230429 exists in the directory.\n",
       "EP1_20230428_20230429 exists in the directory.\n",
       "EP1_20230429_20230429 exists in the directory.\n",
       "</div>"
      ]
     },
     "metadata": {
      "application/vnd.databricks.v1+output": {
       "addedWidgets": {},
       "arguments": {},
       "data": "<div class=\"ansiout\">EP1_20230329_20230429 exists in the directory.\nEP1_20230330_20230429 exists in the directory.\nEP1_20230331_20230429 exists in the directory.\nEP1_20230401_20230429 exists in the directory.\nEP1_20230402_20230429 exists in the directory.\nEP1_20230404_20230429 exists in the directory.\nEP1_20230405_20230429 exists in the directory.\nEP1_20230406_20230429 exists in the directory.\nEP1_20230407_20230429 exists in the directory.\nEP1_20230408_20230429 exists in the directory.\nEP1_20230411_20230429 exists in the directory.\nEP1_20230412_20230429 exists in the directory.\nEP1_20230413_20230429 exists in the directory.\nEP1_20230414_20230429 exists in the directory.\nEP1_20230415_20230429 exists in the directory.\nEP1_20230416_20230429 exists in the directory.\nEP1_20230417_20230429 exists in the directory.\nEP1_20230418_20230429 exists in the directory.\nEP1_20230419_20230429 exists in the directory.\nEP1_20230420_20230429 exists in the directory.\nEP1_20230421_20230429 exists in the directory.\nEP1_20230422_20230429 exists in the directory.\nEP1_20230423_20230429 exists in the directory.\nEP1_20230424_20230429 exists in the directory.\nEP1_20230425_20230429 exists in the directory.\nEP1_20230426_20230429 exists in the directory.\nEP1_20230427_20230429 exists in the directory.\nEP1_20230428_20230429 exists in the directory.\nEP1_20230429_20230429 exists in the directory.\n</div>",
       "datasetInfos": [],
       "metadata": {},
       "removedWidgets": [],
       "type": "html"
      }
     },
     "output_type": "display_data"
    }
   ],
   "source": [
    "directory_path = \"/dbfs/mnt/cis2-casino-niq/onboarding/pdl/trans/build/daily/\" \n",
    "\n",
    "# Loop through the file names and check if each file exists in the directory\n",
    "for file_name in results:\n",
    "    file_path = os.path.join(directory_path, file_name.lower()+ \".parquet.gz\")\n",
    "    if os.path.isfile(file_path):\n",
    "        print(f'{file_name} exists in the directory.')\n",
    "    else:\n",
    "        raise ValueError(f'{file_name} does not exist in the directory.')"
   ]
  },
  {
   "cell_type": "code",
   "execution_count": 0,
   "metadata": {
    "application/vnd.databricks.v1+cell": {
     "cellMetadata": {
      "byteLimit": 2048000,
      "rowLimit": 10000
     },
     "inputWidgets": {},
     "nuid": "08a7bc7a-4906-4989-afc5-3eb8e801a1bc",
     "showTitle": false,
     "title": ""
    }
   },
   "outputs": [
    {
     "output_type": "display_data",
     "data": {
      "text/html": [
       "<style scoped>\n",
       "  .ansiout {\n",
       "    display: block;\n",
       "    unicode-bidi: embed;\n",
       "    white-space: pre-wrap;\n",
       "    word-wrap: break-word;\n",
       "    word-break: break-all;\n",
       "    font-family: \"Source Code Pro\", \"Menlo\", monospace;;\n",
       "    font-size: 13px;\n",
       "    color: #555;\n",
       "    margin-left: 4px;\n",
       "    line-height: 19px;\n",
       "  }\n",
       "</style>\n",
       "<div class=\"ansiout\">Out[39]: [&#39;20230422&#39;,\n",
       " &#39;20230421&#39;,\n",
       " &#39;20230425&#39;,\n",
       " &#39;20230428&#39;,\n",
       " &#39;20230423&#39;,\n",
       " &#39;20230426&#39;,\n",
       " &#39;20230407&#39;,\n",
       " &#39;20230420&#39;,\n",
       " &#39;20230427&#39;]</div>"
      ]
     },
     "metadata": {
      "application/vnd.databricks.v1+output": {
       "addedWidgets": {},
       "arguments": {},
       "data": "<div class=\"ansiout\">Out[39]: [&#39;20230422&#39;,\n &#39;20230421&#39;,\n &#39;20230425&#39;,\n &#39;20230428&#39;,\n &#39;20230423&#39;,\n &#39;20230426&#39;,\n &#39;20230407&#39;,\n &#39;20230420&#39;,\n &#39;20230427&#39;]</div>",
       "datasetInfos": [],
       "metadata": {},
       "removedWidgets": [],
       "type": "html"
      }
     },
     "output_type": "display_data"
    }
   ],
   "source": [
    "import re\n",
    "\n",
    "with open(f\"/dbfs/mnt/cis2-casino-niq/onboarding/prep/input/daily/q/{currday}/load_daily_ACH_{currday}.log\", 'r') as f:\n",
    "    lines = f.readlines()\n",
    "\n",
    "pattern = \"List of unique dates\"\n",
    "filtered_lines = [line for line in lines if re.search(pattern, line, re.IGNORECASE)]\n",
    "\n",
    "date_list = re.findall(r'\\[(.*)\\]', filtered_lines[0])[0]\n",
    "\n",
    "sl = date_list.split(':')[2].split('[')[1]\n",
    "\n",
    "list_of_dates = ['20' + date.strip().replace('.0','') for date in sl.split(',')]\n",
    "list_of_dates\n"
   ]
  },
  {
   "cell_type": "code",
   "execution_count": 0,
   "metadata": {
    "application/vnd.databricks.v1+cell": {
     "cellMetadata": {
      "byteLimit": 2048000,
      "rowLimit": 10000
     },
     "inputWidgets": {},
     "nuid": "f2e4d2bc-050f-4911-8934-4f575bad5be1",
     "showTitle": false,
     "title": ""
    }
   },
   "outputs": [
    {
     "output_type": "display_data",
     "data": {
      "text/html": [
       "<style scoped>\n",
       "  .ansiout {\n",
       "    display: block;\n",
       "    unicode-bidi: embed;\n",
       "    white-space: pre-wrap;\n",
       "    word-wrap: break-word;\n",
       "    word-break: break-all;\n",
       "    font-family: \"Source Code Pro\", \"Menlo\", monospace;;\n",
       "    font-size: 13px;\n",
       "    color: #555;\n",
       "    margin-left: 4px;\n",
       "    line-height: 19px;\n",
       "  }\n",
       "</style>\n",
       "<div class=\"ansiout\">20230422 exists in the directory.\n",
       "20230421 exists in the directory.\n",
       "20230425 exists in the directory.\n",
       "20230428 exists in the directory.\n",
       "20230423 exists in the directory.\n",
       "20230426 exists in the directory.\n",
       "20230407 exists in the directory.\n",
       "20230420 exists in the directory.\n",
       "20230427 exists in the directory.\n",
       "</div>"
      ]
     },
     "metadata": {
      "application/vnd.databricks.v1+output": {
       "addedWidgets": {},
       "arguments": {},
       "data": "<div class=\"ansiout\">20230422 exists in the directory.\n20230421 exists in the directory.\n20230425 exists in the directory.\n20230428 exists in the directory.\n20230423 exists in the directory.\n20230426 exists in the directory.\n20230407 exists in the directory.\n20230420 exists in the directory.\n20230427 exists in the directory.\n</div>",
       "datasetInfos": [],
       "metadata": {},
       "removedWidgets": [],
       "type": "html"
      }
     },
     "output_type": "display_data"
    }
   ],
   "source": [
    "directory_path = \"/dbfs/mnt/cis2-casino-niq/onboarding/pdl/crm/build/daily/ach/\" \n",
    "\n",
    "# Loop through the file names and check if each file exists in the directory\n",
    "for file_name in list_of_dates:\n",
    "    file_path = os.path.join(directory_path, f\"ach_{file_name}_{currday}.parquet\") \n",
    "    if os.path.isfile(file_path):\n",
    "        print(f'{file_name} exists in the directory.')\n",
    "    else:\n",
    "        raise ValueError(f'{file_name} does not exist in the directory.')"
   ]
  },
  {
   "cell_type": "code",
   "execution_count": 0,
   "metadata": {
    "application/vnd.databricks.v1+cell": {
     "cellMetadata": {},
     "inputWidgets": {},
     "nuid": "bfc28c60-e4ab-46ac-84d3-ea96bdb3e569",
     "showTitle": false,
     "title": ""
    }
   },
   "outputs": [],
   "source": []
  }
 ],
 "metadata": {
  "application/vnd.databricks.v1+notebook": {
   "dashboards": [],
   "language": "python",
   "notebookMetadata": {
    "pythonIndentUnit": 4
   },
   "notebookName": "Reading logs and Raising Error",
   "notebookOrigID": 2167439714318982,
   "widgets": {}
  }
 },
 "nbformat": 4,
 "nbformat_minor": 0
}
