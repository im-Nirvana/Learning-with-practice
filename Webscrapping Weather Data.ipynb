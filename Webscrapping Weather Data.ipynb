{
 "cells": [
  {
   "cell_type": "markdown",
   "id": "db63e5a2",
   "metadata": {},
   "source": [
    "# Webscrapping Weather Data"
   ]
  },
  {
   "cell_type": "markdown",
   "id": "3f60c13d",
   "metadata": {},
   "source": [
    "Reference : Used the following set of codes for reference - https://www.geeksforgeeks.org/how-to-extract-weather-data-from-google-in-python/"
   ]
  },
  {
   "cell_type": "code",
   "execution_count": 36,
   "id": "f82be763",
   "metadata": {},
   "outputs": [],
   "source": [
    "# importing library\n",
    "import requests\n",
    "from bs4 import BeautifulSoup"
   ]
  },
  {
   "cell_type": "code",
   "execution_count": 37,
   "id": "ce28f702",
   "metadata": {},
   "outputs": [],
   "source": [
    "# enter city name\n",
    "city = \"Baroda\""
   ]
  },
  {
   "cell_type": "code",
   "execution_count": 38,
   "id": "bc482791",
   "metadata": {},
   "outputs": [],
   "source": [
    "# creating url and requests instance\n",
    "url = \"https://www.google.com/search?q=\"+\"weather\"+city\n",
    "html = requests.get(url).content"
   ]
  },
  {
   "cell_type": "code",
   "execution_count": 39,
   "id": "fb58ae24",
   "metadata": {},
   "outputs": [],
   "source": [
    "# getting raw data\n",
    "soup = BeautifulSoup(html, 'html.parser')\n",
    "temp = soup.find('div', attrs={'class': 'BNeawe iBp4i AP7Wnd'}).text\n",
    "str = soup.find('div', attrs={'class': 'BNeawe tAd8D AP7Wnd'}).text"
   ]
  },
  {
   "cell_type": "code",
   "execution_count": 40,
   "id": "b749703b",
   "metadata": {},
   "outputs": [
    {
     "name": "stdout",
     "output_type": "stream",
     "text": [
      "Monday 4:56 pm\n",
      "Smoke\n"
     ]
    }
   ],
   "source": [
    "#print(soup) #BNeawe s3v9rd AP7Wnd\n",
    "#print(temp)\n",
    "print(str)"
   ]
  },
  {
   "cell_type": "code",
   "execution_count": 41,
   "id": "de2d2a1b",
   "metadata": {},
   "outputs": [],
   "source": [
    "# format the data\n",
    "data = str.split('\\n')\n",
    "time = data[0]\n",
    "sky = data[1]"
   ]
  },
  {
   "cell_type": "code",
   "execution_count": 42,
   "id": "5c3f2156",
   "metadata": {},
   "outputs": [
    {
     "name": "stdout",
     "output_type": "stream",
     "text": [
      "['Monday 4:56 pm', 'Smoke']\n"
     ]
    }
   ],
   "source": [
    "print(data)\n",
    "#print(time)\n",
    "#print(sky)"
   ]
  },
  {
   "cell_type": "code",
   "execution_count": 43,
   "id": "b68726d7",
   "metadata": {},
   "outputs": [],
   "source": [
    "# list having all div tags having particular class name\n",
    "listdiv = soup.findAll('div', attrs={'class': 'BNeawe s3v9rd AP7Wnd'})\n",
    " \n",
    "# particular list with required data\n",
    "strd = listdiv[5].text\n",
    " \n",
    "# formatting the string\n",
    "pos = strd.find('Wind')\n",
    "#other_data = strd[pos:]"
   ]
  },
  {
   "cell_type": "code",
   "execution_count": 44,
   "id": "005c814d",
   "metadata": {},
   "outputs": [],
   "source": [
    "temp_pos=temp.find('°C')\n",
    "t_pos = temp_pos-2"
   ]
  },
  {
   "cell_type": "code",
   "execution_count": 45,
   "id": "dd297585",
   "metadata": {},
   "outputs": [],
   "source": [
    "t=temp[t_pos:]"
   ]
  },
  {
   "cell_type": "code",
   "execution_count": 46,
   "id": "44ade6c7",
   "metadata": {},
   "outputs": [],
   "source": [
    "if pos >= 0 :\n",
    "    other_data = strd[pos:]\n",
    "else :\n",
    "    other_data = temp[:t_pos]\n",
    "    "
   ]
  },
  {
   "cell_type": "code",
   "execution_count": 47,
   "id": "3301d35f",
   "metadata": {},
   "outputs": [],
   "source": [
    "#print(temp[:t_pos])"
   ]
  },
  {
   "cell_type": "code",
   "execution_count": 48,
   "id": "771f1a91",
   "metadata": {},
   "outputs": [
    {
     "name": "stdout",
     "output_type": "stream",
     "text": [
      "Temperature is 32°C\n",
      "Time:  Monday 4:56 pm\n",
      "Sky Description:  Smoke\n",
      "Add Info : \n"
     ]
    }
   ],
   "source": [
    "# printing all the data\n",
    "print(\"Temperature is\", t)\n",
    "print(\"Time: \", time)\n",
    "print(\"Sky Description: \", sky)\n",
    "print(\"Add Info :\", other_data)"
   ]
  },
  {
   "cell_type": "code",
   "execution_count": null,
   "id": "839e9e37",
   "metadata": {},
   "outputs": [],
   "source": []
  },
  {
   "cell_type": "code",
   "execution_count": null,
   "id": "9b308d25",
   "metadata": {},
   "outputs": [],
   "source": []
  }
 ],
 "metadata": {
  "kernelspec": {
   "display_name": "Python 3 (ipykernel)",
   "language": "python",
   "name": "python3"
  },
  "language_info": {
   "codemirror_mode": {
    "name": "ipython",
    "version": 3
   },
   "file_extension": ".py",
   "mimetype": "text/x-python",
   "name": "python",
   "nbconvert_exporter": "python",
   "pygments_lexer": "ipython3",
   "version": "3.9.7"
  }
 },
 "nbformat": 4,
 "nbformat_minor": 5
}
