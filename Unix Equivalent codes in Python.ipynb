{
 "cells": [
  {
   "cell_type": "code",
   "execution_count": 0,
   "metadata": {
    "application/vnd.databricks.v1+cell": {
     "cellMetadata": {
      "byteLimit": 2048000,
      "rowLimit": 10000
     },
     "inputWidgets": {},
     "nuid": "69422089-557a-4c53-8658-bebc5e0c6c54",
     "showTitle": false,
     "title": ""
    }
   },
   "outputs": [
    {
     "output_type": "display_data",
     "data": {
      "text/html": [
       "<style scoped>\n",
       "  .ansiout {\n",
       "    display: block;\n",
       "    unicode-bidi: embed;\n",
       "    white-space: pre-wrap;\n",
       "    word-wrap: break-word;\n",
       "    word-break: break-all;\n",
       "    font-family: \"Source Code Pro\", \"Menlo\", monospace;;\n",
       "    font-size: 13px;\n",
       "    color: #555;\n",
       "    margin-left: 4px;\n",
       "    line-height: 19px;\n",
       "  }\n",
       "</style>\n",
       "<div class=\"ansiout\">Old_week=202929\n",
       "</div>"
      ]
     },
     "metadata": {
      "application/vnd.databricks.v1+output": {
       "addedWidgets": {},
       "arguments": {},
       "data": "<div class=\"ansiout\">Old_week=202929\n</div>",
       "datasetInfos": [],
       "metadata": {},
       "removedWidgets": [],
       "type": "html"
      }
     },
     "output_type": "display_data"
    }
   ],
   "source": [
    "%sh\n",
    "cd /dbfs/mnt/cis2-casino-niq/onboarding\n",
    "\n",
    "#sed -i \"s/Old_week=.*/Old_week=202309/g\" test.txt\n",
    "grep \"Old_week=\" test.txt"
   ]
  },
  {
   "cell_type": "code",
   "execution_count": 0,
   "metadata": {
    "application/vnd.databricks.v1+cell": {
     "cellMetadata": {
      "byteLimit": 2048000,
      "rowLimit": 10000
     },
     "inputWidgets": {},
     "nuid": "997fa0ee-2680-493a-881b-232d164454ef",
     "showTitle": false,
     "title": ""
    }
   },
   "outputs": [
    {
     "output_type": "display_data",
     "data": {
      "text/html": [
       "<style scoped>\n",
       "  .ansiout {\n",
       "    display: block;\n",
       "    unicode-bidi: embed;\n",
       "    white-space: pre-wrap;\n",
       "    word-wrap: break-word;\n",
       "    word-break: break-all;\n",
       "    font-family: \"Source Code Pro\", \"Menlo\", monospace;;\n",
       "    font-size: 13px;\n",
       "    color: #555;\n",
       "    margin-left: 4px;\n",
       "    line-height: 19px;\n",
       "  }\n",
       "</style>\n",
       "<div class=\"ansiout\"></div>"
      ]
     },
     "metadata": {
      "application/vnd.databricks.v1+output": {
       "addedWidgets": {},
       "arguments": {},
       "data": "<div class=\"ansiout\"></div>",
       "datasetInfos": [],
       "metadata": {},
       "removedWidgets": [],
       "type": "html"
      }
     },
     "output_type": "display_data"
    }
   ],
   "source": [
    "import fileinput\n",
    "import re\n",
    "\n",
    "# Define the pattern to search for and the replacement value\n",
    "pattern = r\"Old_week=.*\"\n",
    "replacement = \"Old_week=202309\"\n",
    "\n",
    "# Open the file in \"in-place\" mode and perform the replacement\n",
    "with fileinput.FileInput(\"/dbfs/mnt/cis2-casino-niq/onboarding/test.txt\", inplace=True, backup=\".bak\") as file:\n",
    "    for line in file:\n",
    "        line = re.sub(pattern, replacement, line)\n",
    "        print(line, end=\"\")\n"
   ]
  },
  {
   "cell_type": "code",
   "execution_count": 0,
   "metadata": {
    "application/vnd.databricks.v1+cell": {
     "cellMetadata": {
      "byteLimit": 2048000,
      "rowLimit": 10000
     },
     "inputWidgets": {},
     "nuid": "4c9b5ac5-3965-4fe0-a049-d53c3dfb0cb0",
     "showTitle": false,
     "title": ""
    }
   },
   "outputs": [
    {
     "output_type": "display_data",
     "data": {
      "text/html": [
       "<style scoped>\n",
       "  .ansiout {\n",
       "    display: block;\n",
       "    unicode-bidi: embed;\n",
       "    white-space: pre-wrap;\n",
       "    word-wrap: break-word;\n",
       "    word-break: break-all;\n",
       "    font-family: \"Source Code Pro\", \"Menlo\", monospace;;\n",
       "    font-size: 13px;\n",
       "    color: #555;\n",
       "    margin-left: 4px;\n",
       "    line-height: 19px;\n",
       "  }\n",
       "</style>\n",
       "<div class=\"ansiout\">Old_week=202309\n",
       "</div>"
      ]
     },
     "metadata": {
      "application/vnd.databricks.v1+output": {
       "addedWidgets": {},
       "arguments": {},
       "data": "<div class=\"ansiout\">Old_week=202309\n</div>",
       "datasetInfos": [],
       "metadata": {},
       "removedWidgets": [],
       "type": "html"
      }
     },
     "output_type": "display_data"
    }
   ],
   "source": [
    "%sh\n",
    "cd /dbfs/mnt/cis2-casino-niq/onboarding\n",
    "\n",
    "#sed -i \"s/Old_week=.*/Old_week=202309/g\" test.txt\n",
    "grep \"Old_week=\" test.txt"
   ]
  },
  {
   "cell_type": "markdown",
   "metadata": {
    "application/vnd.databricks.v1+cell": {
     "cellMetadata": {},
     "inputWidgets": {},
     "nuid": "c55cfb69-f345-4385-8328-36f84875c28b",
     "showTitle": false,
     "title": ""
    }
   },
   "source": [
    "#######The following code is to get all the dates in the range.\n",
    "#######for example:\n",
    "#######first date = 20230428\n",
    "#######last date = 20230507\n",
    "#######should print all the dates from 28th April 2023 to 07th may 2023 in the same format of yyyymmdd"
   ]
  },
  {
   "cell_type": "code",
   "execution_count": 0,
   "metadata": {
    "application/vnd.databricks.v1+cell": {
     "cellMetadata": {
      "byteLimit": 2048000,
      "rowLimit": 10000
     },
     "inputWidgets": {},
     "nuid": "9943633c-699a-41b7-9f5e-d094dd09bc9e",
     "showTitle": false,
     "title": ""
    }
   },
   "outputs": [
    {
     "output_type": "display_data",
     "data": {
      "text/html": [
       "<style scoped>\n",
       "  .ansiout {\n",
       "    display: block;\n",
       "    unicode-bidi: embed;\n",
       "    white-space: pre-wrap;\n",
       "    word-wrap: break-word;\n",
       "    word-break: break-all;\n",
       "    font-family: \"Source Code Pro\", \"Menlo\", monospace;;\n",
       "    font-size: 13px;\n",
       "    color: #555;\n",
       "    margin-left: 4px;\n",
       "    line-height: 19px;\n",
       "  }\n",
       "</style>\n",
       "<div class=\"ansiout\">[&#39;20230428&#39;, &#39;20230429&#39;, &#39;20230430&#39;, &#39;20230501&#39;, &#39;20230502&#39;, &#39;20230503&#39;, &#39;20230504&#39;, &#39;20230505&#39;, &#39;20230506&#39;, &#39;20230507&#39;]\n",
       "</div>"
      ]
     },
     "metadata": {
      "application/vnd.databricks.v1+output": {
       "addedWidgets": {},
       "arguments": {},
       "data": "<div class=\"ansiout\">[&#39;20230428&#39;, &#39;20230429&#39;, &#39;20230430&#39;, &#39;20230501&#39;, &#39;20230502&#39;, &#39;20230503&#39;, &#39;20230504&#39;, &#39;20230505&#39;, &#39;20230506&#39;, &#39;20230507&#39;]\n</div>",
       "datasetInfos": [],
       "metadata": {},
       "removedWidgets": [],
       "type": "html"
      }
     },
     "output_type": "display_data"
    }
   ],
   "source": [
    "from datetime import datetime, timedelta\n",
    "\n",
    "# Define the start and end dates as strings\n",
    "start_date_str = \"20230428\"\n",
    "end_date_str = \"20230507\"\n",
    "\n",
    "# Convert the start and end dates to datetime objects\n",
    "start_date = datetime.strptime(start_date_str, \"%Y%m%d\")\n",
    "end_date = datetime.strptime(end_date_str, \"%Y%m%d\")\n",
    "\n",
    "# Create an empty list to store the date strings\n",
    "date_strs = []\n",
    "\n",
    "# Loop through all the dates between the start and end dates\n",
    "current_date = start_date\n",
    "while current_date <= end_date:\n",
    "    # Append the current date to the list of date strings\n",
    "    date_strs.append(current_date.strftime(\"%Y%m%d\"))\n",
    "    # Increment the current date by one day\n",
    "    current_date += timedelta(days=1)\n",
    "\n",
    "# Print the list of date strings\n",
    "print(date_strs)\n"
   ]
  },
  {
   "cell_type": "markdown",
   "metadata": {
    "application/vnd.databricks.v1+cell": {
     "cellMetadata": {},
     "inputWidgets": {},
     "nuid": "34444099-cb3e-480c-a8a0-473dece7af79",
     "showTitle": false,
     "title": ""
    }
   },
   "source": [
    "####The above code can be modified as below to use it with our existing weekly parameters for create_week_AV1 code to move weekly files (Mon-Sun)"
   ]
  },
  {
   "cell_type": "code",
   "execution_count": 0,
   "metadata": {
    "application/vnd.databricks.v1+cell": {
     "cellMetadata": {
      "byteLimit": 2048000,
      "rowLimit": 10000
     },
     "inputWidgets": {},
     "nuid": "dcee3e1e-9397-424d-a5bc-5e0049850073",
     "showTitle": false,
     "title": ""
    }
   },
   "outputs": [
    {
     "output_type": "display_data",
     "data": {
      "text/html": [
       "<style scoped>\n",
       "  .ansiout {\n",
       "    display: block;\n",
       "    unicode-bidi: embed;\n",
       "    white-space: pre-wrap;\n",
       "    word-wrap: break-word;\n",
       "    word-break: break-all;\n",
       "    font-family: \"Source Code Pro\", \"Menlo\", monospace;;\n",
       "    font-size: 13px;\n",
       "    color: #555;\n",
       "    margin-left: 4px;\n",
       "    line-height: 19px;\n",
       "  }\n",
       "</style>\n",
       "<div class=\"ansiout\">[&#39;20230424&#39;, &#39;20230425&#39;, &#39;20230426&#39;, &#39;20230427&#39;, &#39;20230428&#39;, &#39;20230429&#39;, &#39;20230430&#39;, &#39;20230501&#39;, &#39;20230502&#39;, &#39;20230503&#39;, &#39;20230504&#39;, &#39;20230505&#39;, &#39;20230506&#39;, &#39;20230507&#39;]\n",
       "</div>"
      ]
     },
     "metadata": {
      "application/vnd.databricks.v1+output": {
       "addedWidgets": {},
       "arguments": {},
       "data": "<div class=\"ansiout\">[&#39;20230424&#39;, &#39;20230425&#39;, &#39;20230426&#39;, &#39;20230427&#39;, &#39;20230428&#39;, &#39;20230429&#39;, &#39;20230430&#39;, &#39;20230501&#39;, &#39;20230502&#39;, &#39;20230503&#39;, &#39;20230504&#39;, &#39;20230505&#39;, &#39;20230506&#39;, &#39;20230507&#39;]\n</div>",
       "datasetInfos": [],
       "metadata": {},
       "removedWidgets": [],
       "type": "html"
      }
     },
     "output_type": "display_data"
    }
   ],
   "source": [
    "from datetime import datetime, timedelta\n",
    "\n",
    "start_date_str = '24APR2023'\n",
    "end_date_str = '07MAY2023'\n",
    "\n",
    "# Convert the start and end dates to datetime objects\n",
    "start_date = datetime.strptime(start_date_str, '%d%b%Y')\n",
    "end_date = datetime.strptime(end_date_str, '%d%b%Y')\n",
    "\n",
    "# Create an empty list to store the date strings\n",
    "date_strs = []\n",
    "\n",
    "# Loop through all the dates between the start and end dates\n",
    "current_date = start_date\n",
    "while current_date <= end_date:\n",
    "    # Append the current date to the list of date strings\n",
    "    date_strs.append(current_date.strftime('%Y%m%d'))\n",
    "    # Increment the current date by one day\n",
    "    current_date += timedelta(days=1)\n",
    "\n",
    "# Print the list of date strings\n",
    "print(date_strs)\n"
   ]
  },
  {
   "cell_type": "code",
   "execution_count": 0,
   "metadata": {
    "application/vnd.databricks.v1+cell": {
     "cellMetadata": {},
     "inputWidgets": {},
     "nuid": "a8d363ba-458f-4d7d-979e-4553495319b4",
     "showTitle": false,
     "title": ""
    }
   },
   "outputs": [],
   "source": []
  }
 ],
 "metadata": {
  "application/vnd.databricks.v1+notebook": {
   "dashboards": [],
   "language": "python",
   "notebookMetadata": {
    "mostRecentlyExecutedCommandWithImplicitDF": {
     "commandId": 1749981756011573,
     "dataframes": [
      "_sqldf"
     ]
    },
    "pythonIndentUnit": 4
   },
   "notebookName": "Unix Equivalent codes in Python",
   "notebookOrigID": 1749981756011570,
   "widgets": {}
  }
 },
 "nbformat": 4,
 "nbformat_minor": 0
}
